{
 "cells": [
  {
   "cell_type": "code",
   "execution_count": 401,
   "metadata": {},
   "outputs": [],
   "source": [
    "import pandas as pd\n",
    "import numpy as np\n",
    "import matplotlib.pyplot as plt\n",
    "import seaborn as sb"
   ]
  },
  {
   "cell_type": "code",
   "execution_count": 402,
   "metadata": {},
   "outputs": [
    {
     "data": {
      "text/html": [
       "<div>\n",
       "<style scoped>\n",
       "    .dataframe tbody tr th:only-of-type {\n",
       "        vertical-align: middle;\n",
       "    }\n",
       "\n",
       "    .dataframe tbody tr th {\n",
       "        vertical-align: top;\n",
       "    }\n",
       "\n",
       "    .dataframe thead th {\n",
       "        text-align: right;\n",
       "    }\n",
       "</style>\n",
       "<table border=\"1\" class=\"dataframe\">\n",
       "  <thead>\n",
       "    <tr style=\"text-align: right;\">\n",
       "      <th></th>\n",
       "      <th>PassengerId</th>\n",
       "      <th>Survived</th>\n",
       "      <th>Pclass</th>\n",
       "      <th>Name</th>\n",
       "      <th>Sex</th>\n",
       "      <th>Age</th>\n",
       "      <th>SibSp</th>\n",
       "      <th>Parch</th>\n",
       "      <th>Ticket</th>\n",
       "      <th>Fare</th>\n",
       "      <th>Cabin</th>\n",
       "      <th>Embarked</th>\n",
       "    </tr>\n",
       "  </thead>\n",
       "  <tbody>\n",
       "    <tr>\n",
       "      <th>0</th>\n",
       "      <td>1</td>\n",
       "      <td>0</td>\n",
       "      <td>3</td>\n",
       "      <td>Braund, Mr. Owen Harris</td>\n",
       "      <td>male</td>\n",
       "      <td>22.0</td>\n",
       "      <td>1</td>\n",
       "      <td>0</td>\n",
       "      <td>A/5 21171</td>\n",
       "      <td>7.2500</td>\n",
       "      <td>NaN</td>\n",
       "      <td>S</td>\n",
       "    </tr>\n",
       "    <tr>\n",
       "      <th>1</th>\n",
       "      <td>2</td>\n",
       "      <td>1</td>\n",
       "      <td>1</td>\n",
       "      <td>Cumings, Mrs. John Bradley (Florence Briggs Th...</td>\n",
       "      <td>female</td>\n",
       "      <td>38.0</td>\n",
       "      <td>1</td>\n",
       "      <td>0</td>\n",
       "      <td>PC 17599</td>\n",
       "      <td>71.2833</td>\n",
       "      <td>C85</td>\n",
       "      <td>C</td>\n",
       "    </tr>\n",
       "    <tr>\n",
       "      <th>2</th>\n",
       "      <td>3</td>\n",
       "      <td>1</td>\n",
       "      <td>3</td>\n",
       "      <td>Heikkinen, Miss. Laina</td>\n",
       "      <td>female</td>\n",
       "      <td>26.0</td>\n",
       "      <td>0</td>\n",
       "      <td>0</td>\n",
       "      <td>STON/O2. 3101282</td>\n",
       "      <td>7.9250</td>\n",
       "      <td>NaN</td>\n",
       "      <td>S</td>\n",
       "    </tr>\n",
       "    <tr>\n",
       "      <th>3</th>\n",
       "      <td>4</td>\n",
       "      <td>1</td>\n",
       "      <td>1</td>\n",
       "      <td>Futrelle, Mrs. Jacques Heath (Lily May Peel)</td>\n",
       "      <td>female</td>\n",
       "      <td>35.0</td>\n",
       "      <td>1</td>\n",
       "      <td>0</td>\n",
       "      <td>113803</td>\n",
       "      <td>53.1000</td>\n",
       "      <td>C123</td>\n",
       "      <td>S</td>\n",
       "    </tr>\n",
       "    <tr>\n",
       "      <th>4</th>\n",
       "      <td>5</td>\n",
       "      <td>0</td>\n",
       "      <td>3</td>\n",
       "      <td>Allen, Mr. William Henry</td>\n",
       "      <td>male</td>\n",
       "      <td>35.0</td>\n",
       "      <td>0</td>\n",
       "      <td>0</td>\n",
       "      <td>373450</td>\n",
       "      <td>8.0500</td>\n",
       "      <td>NaN</td>\n",
       "      <td>S</td>\n",
       "    </tr>\n",
       "  </tbody>\n",
       "</table>\n",
       "</div>"
      ],
      "text/plain": [
       "   PassengerId  Survived  Pclass  \\\n",
       "0            1         0       3   \n",
       "1            2         1       1   \n",
       "2            3         1       3   \n",
       "3            4         1       1   \n",
       "4            5         0       3   \n",
       "\n",
       "                                                Name     Sex   Age  SibSp  \\\n",
       "0                            Braund, Mr. Owen Harris    male  22.0      1   \n",
       "1  Cumings, Mrs. John Bradley (Florence Briggs Th...  female  38.0      1   \n",
       "2                             Heikkinen, Miss. Laina  female  26.0      0   \n",
       "3       Futrelle, Mrs. Jacques Heath (Lily May Peel)  female  35.0      1   \n",
       "4                           Allen, Mr. William Henry    male  35.0      0   \n",
       "\n",
       "   Parch            Ticket     Fare Cabin Embarked  \n",
       "0      0         A/5 21171   7.2500   NaN        S  \n",
       "1      0          PC 17599  71.2833   C85        C  \n",
       "2      0  STON/O2. 3101282   7.9250   NaN        S  \n",
       "3      0            113803  53.1000  C123        S  \n",
       "4      0            373450   8.0500   NaN        S  "
      ]
     },
     "execution_count": 402,
     "metadata": {},
     "output_type": "execute_result"
    }
   ],
   "source": [
    "dataset = pd.read_csv('train.csv')\n",
    "X_train = dataset.iloc[:, 2:].values # passenger id doesnt matter\n",
    "y_train = dataset.iloc[:, 1].values # our dependent variable survived\n",
    "dataset.head()"
   ]
  },
  {
   "cell_type": "code",
   "execution_count": 403,
   "metadata": {},
   "outputs": [],
   "source": [
    "# we see that we have categorical data name, sex, ticket, cabin and embarked\n",
    "# quantitative data Pclass, Age, SibSp, Parch, Fare\n",
    "# we can make a new catagory called title and get rid of name\n",
    "# replace missing values in age by median"
   ]
  },
  {
   "cell_type": "code",
   "execution_count": 404,
   "metadata": {},
   "outputs": [
    {
     "name": "stdout",
     "output_type": "stream",
     "text": [
      "[[3 'Braund, Mr. Owen Harris' 'male' ... 7.25 nan 'S']\n",
      " [1 'Cumings, Mrs. John Bradley (Florence Briggs Thayer)' 'female' ...\n",
      "  71.2833 'C85' 'C']\n",
      " [3 'Heikkinen, Miss. Laina' 'female' ... 7.925 nan 'S']\n",
      " ...\n",
      " [3 'Johnston, Miss. Catherine Helen \"Carrie\"' 'female' ... 23.45 nan 'S']\n",
      " [1 'Behr, Mr. Karl Howell' 'male' ... 30.0 'C148' 'C']\n",
      " [3 'Dooley, Mr. Patrick' 'male' ... 7.75 nan 'Q']]\n"
     ]
    }
   ],
   "source": [
    "print(X_train)"
   ]
  },
  {
   "cell_type": "code",
   "execution_count": 405,
   "metadata": {},
   "outputs": [],
   "source": [
    "from sklearn.impute import SimpleImputer\n",
    "imputer = SimpleImputer(missing_values=np.nan, strategy='median')\n",
    "imputer.fit(X_train[:, 3:4])\n",
    "Ages = imputer.transform(X_train[:, 3:4])"
   ]
  },
  {
   "cell_type": "code",
   "execution_count": 406,
   "metadata": {},
   "outputs": [],
   "source": [
    "i = 0\n",
    "for age in Ages:\n",
    "    if age <= 10:\n",
    "       Ages[i] = 0\n",
    "    elif age <= 20:\n",
    "       Ages[i] = 1\n",
    "    elif age <= 30:\n",
    "       Ages[i] = 2\n",
    "    elif age <= 40:\n",
    "       Ages[i] = 3\n",
    "    elif age <= 50:\n",
    "       Ages[i] = 4\n",
    "    elif age <= 60:\n",
    "       Ages[i] = 5\n",
    "    elif age <= 70:\n",
    "       Ages[i] = 6\n",
    "    elif age <= 80:\n",
    "       Ages[i] = 7\n",
    "    elif age <= 90:\n",
    "       Ages[i] = 8\n",
    "    else:\n",
    "        Ages[i] = 9\n",
    "    i += 1"
   ]
  },
  {
   "cell_type": "code",
   "execution_count": 407,
   "metadata": {},
   "outputs": [
    {
     "name": "stdout",
     "output_type": "stream",
     "text": [
      "[2. 3. 2. 3. 3. 2. 5. 0. 2. 1. 0. 5. 1. 3. 1. 5. 0. 2. 3. 2. 3. 3. 1. 2.\n",
      " 0. 3. 2. 1. 2. 2. 3. 2. 2. 6. 2. 4. 2. 2. 1. 1. 3. 2. 2. 0. 1. 2. 2. 2.\n",
      " 2. 1. 0. 2. 4. 2. 6. 2. 2. 2. 0. 1. 2. 3. 4. 0. 2. 2. 2. 1. 1. 2. 3. 1.\n",
      " 2. 2. 3. 2. 2. 2. 0. 2. 2. 2. 2. 2. 1. 3. 1. 2. 2. 2. 2. 1. 4. 2. 5. 2.\n",
      " 7. 2. 3. 3. 2. 2. 2. 3. 3. 2. 2. 2. 3. 2. 4. 1. 2. 1. 1. 2. 7. 2. 2. 0.\n",
      " 2. 2. 3. 3. 5. 1. 2. 2. 2. 4. 3. 1. 4. 2. 2. 2. 1. 3. 1. 2. 2. 2. 2. 1.\n",
      " 1. 1. 2. 0. 3. 4. 5. 2. 5. 4. 2. 5. 1. 2. 2. 2. 4. 3. 2. 1. 0. 0. 2. 4.\n",
      " 2. 2. 6. 0. 0. 2. 5. 1. 2. 4. 2. 3. 2. 2. 0. 0. 0. 2. 2. 4. 3. 3. 3. 1.\n",
      " 1. 0. 4. 5. 2. 4. 2. 2. 2. 2. 3. 4. 1. 0. 3. 2. 1. 3. 2. 3. 2. 2. 2. 3.\n",
      " 2. 4. 3. 2. 1. 2. 5. 2. 3. 2. 1. 2. 1. 2. 3. 2. 5. 0. 2. 2. 4. 0. 1. 3.\n",
      " 2. 2. 2. 2. 2. 4. 2. 2. 3. 5. 2. 2. 6. 2. 4. 2. 2. 2. 3. 4. 2. 0. 5. 3.\n",
      " 2. 3. 1. 2. 5. 3. 2. 2. 4. 3. 2. 6. 4. 2. 0. 3. 6. 2. 1. 1. 2. 3. 2. 2.\n",
      " 4. 2. 2. 1. 3. 2. 2. 2. 2. 0. 2. 4. 2. 2. 1. 2. 2. 0. 2. 1. 2. 2. 2. 1.\n",
      " 2. 2. 4. 2. 2. 5. 3. 3. 2. 2. 2. 2. 2. 3. 6. 3. 3. 1. 2. 4. 3. 1. 2. 2.\n",
      " 2. 4. 4. 4. 0. 2. 2. 2. 3. 2. 3. 2. 0. 4. 2. 2. 1. 2. 2. 2. 2. 3. 2. 2.\n",
      " 3. 2. 4. 3. 2. 2. 5. 2. 2. 2. 2. 1. 1. 2. 0. 2. 2. 2. 1. 1. 4. 0. 3. 3.\n",
      " 2. 1. 0. 3. 2. 1. 3. 2. 2. 2. 2. 2. 3. 4. 2. 2. 3. 2. 2. 2. 1. 3. 5. 0.\n",
      " 2. 2. 2. 2. 3. 2. 4. 2. 3. 1. 2. 0. 2. 2. 2. 2. 1. 2. 2. 1. 2. 3. 2. 2.\n",
      " 4. 1. 4. 1. 2. 2. 6. 3. 4. 1. 2. 2. 2. 0. 1. 3. 0. 5. 3. 2. 2. 4. 2. 2.\n",
      " 6. 2. 4. 2. 4. 3. 4. 4. 2. 3. 2. 5. 2. 0. 2. 3. 3. 2. 2. 2. 3. 2. 2. 0.\n",
      " 0. 2. 4. 6. 2. 2. 3. 5. 2. 0. 2. 2. 5. 7. 2. 2. 5. 2. 2. 2. 1. 2. 2. 3.\n",
      " 1. 1. 3. 2. 2. 2. 2. 2. 3. 5. 2. 4. 3. 2. 3. 3. 2. 2. 2. 4. 2. 4. 4. 2.\n",
      " 3. 2. 0. 2. 1. 2. 2. 0. 4. 2. 2. 2. 3. 0. 1. 3. 4. 6. 1. 2. 3. 0. 1. 2.\n",
      " 2. 2. 2. 6. 4. 2. 3. 3. 2. 3. 2. 2. 2. 2. 1. 2. 2. 3. 6. 5. 3. 2. 1. 1.\n",
      " 3. 3. 2. 3. 2. 3. 5. 3. 2. 1. 4. 5. 2. 2. 3. 5. 4. 2. 3. 3. 2. 4. 2. 4.\n",
      " 2. 2. 2. 4. 3. 3. 2. 2. 2. 3. 3. 2. 2. 2. 3. 2. 3. 2. 0. 2. 2. 4. 1. 2.\n",
      " 2. 6. 5. 2. 2. 2. 7. 5. 3. 2. 0. 2. 3. 3. 4. 2. 1. 2. 0. 2. 0. 4. 1. 5.\n",
      " 2. 2. 2. 1. 2. 2. 1. 2. 2. 3. 2. 5. 4. 3. 4. 3. 1. 3. 2. 2. 4. 2. 3. 3.\n",
      " 6. 3. 2. 1. 2. 1. 4. 3. 2. 2. 1. 1. 5. 2. 1. 1. 1. 1. 3. 0. 2. 2. 5. 5.\n",
      " 4. 2. 4. 4. 1. 3. 1. 2. 2. 3. 4. 4. 2. 2. 2. 2. 4. 2. 5. 1. 3. 2. 2. 3.\n",
      " 0. 1. 3. 4. 2. 1. 2. 2. 2. 2. 2. 1. 2. 2. 2. 2. 4. 3. 2. 2. 2. 3. 2. 2.\n",
      " 3. 6. 1. 2. 1. 3. 0. 0. 3. 2. 4. 0. 2. 1. 3. 3. 2. 4. 1. 3. 1. 5. 2. 3.\n",
      " 2. 3. 2. 4. 5. 2. 5. 1. 2. 0. 2. 4. 1. 1. 2. 2. 2. 2. 1. 0. 0. 4. 2. 1.\n",
      " 2. 2. 2. 3. 4. 3. 2. 2. 3. 3. 1. 0. 2. 3. 3. 1. 3. 3. 2. 3. 3. 0. 3. 2.\n",
      " 2. 3. 4. 0. 5. 2. 3. 2. 0. 2. 2. 0. 2. 6. 1. 0. 2. 2. 1. 3. 2. 2. 3. 2.\n",
      " 1. 1. 2. 3. 1. 4. 2. 3. 2. 2. 0. 7. 0. 1. 4. 1. 4. 5. 2. 2. 4. 2. 4. 2.\n",
      " 2. 4. 2. 3. 2. 0. 2. 4. 3. 4. 2. 1. 1. 1. 2. 5. 2. 3. 2. 2. 2. 3. 2. 1.\n",
      " 2. 2. 3.]\n"
     ]
    }
   ],
   "source": [
    "Ages = Ages[:, 0]\n",
    "print(Ages)"
   ]
  },
  {
   "cell_type": "code",
   "execution_count": 408,
   "metadata": {},
   "outputs": [
    {
     "data": {
      "image/png": "[encoded data removed]",
      "text/plain": [
       "<Figure size 432x288 with 1 Axes>"
      ]
     },
     "metadata": {
      "needs_background": "light"
     },
     "output_type": "display_data"
    }
   ],
   "source": [
    "sb.barplot(x = Ages, y = y_train)\n",
    "plt.title('Age vs Survival Rate')\n",
    "plt.xlabel('Age Group')\n",
    "plt.ylabel('Average Survival Rate')\n",
    "plt.show()"
   ]
  },
  {
   "cell_type": "code",
   "execution_count": 409,
   "metadata": {},
   "outputs": [],
   "source": [
    "from sklearn.impute import SimpleImputer\n",
    "imputer = SimpleImputer(missing_values=np.nan, strategy='median')\n",
    "imputer.fit(X_train[:, 7:8])\n",
    "Fares = imputer.transform(X_train[:, 7:8])"
   ]
  },
  {
   "cell_type": "code",
   "execution_count": 410,
   "metadata": {},
   "outputs": [],
   "source": [
    "i = 0\n",
    "for fare in Fares:\n",
    "    if fare <= 20:\n",
    "        Fares[i] = 10\n",
    "    elif fare <= 40:\n",
    "       Fares[i] = 20\n",
    "    elif fare <= 60:\n",
    "       Fares[i] = 30\n",
    "    elif fare <= 80:\n",
    "       Fares[i] = 40\n",
    "    elif fare <= 100:\n",
    "       Fares[i] = 50\n",
    "    elif fare <= 300:\n",
    "       Fares[i] = 200\n",
    "    elif fare <= 400:\n",
    "       Fares[i] = 300\n",
    "    else:\n",
    "        Fares[i] = 400\n",
    "    i += 1"
   ]
  },
  {
   "cell_type": "code",
   "execution_count": 411,
   "metadata": {},
   "outputs": [],
   "source": [
    "Fares = Fares[:, 0]"
   ]
  },
  {
   "cell_type": "code",
   "execution_count": 412,
   "metadata": {},
   "outputs": [
    {
     "data": {
      "image/png": "[encoded data removed]",
      "text/plain": [
       "<Figure size 432x288 with 1 Axes>"
      ]
     },
     "metadata": {
      "needs_background": "light"
     },
     "output_type": "display_data"
    }
   ],
   "source": [
    "sb.barplot(x = Fares, y = y_train)\n",
    "plt.title('Fare vs Survival')\n",
    "plt.xlabel('Fare Group')\n",
    "plt.ylabel('Survival Rate')\n",
    "plt.show()"
   ]
  },
  {
   "cell_type": "code",
   "execution_count": 413,
   "metadata": {},
   "outputs": [],
   "source": [
    "X_test = pd.read_csv('test.csv')\n",
    "X_test = X_test.iloc[:, 1:].values"
   ]
  },
  {
   "cell_type": "code",
   "execution_count": 414,
   "metadata": {},
   "outputs": [
    {
     "name": "stdout",
     "output_type": "stream",
     "text": [
      "[[3 'Braund, Mr. Owen Harris' 'male' ... 7.25 nan 'S']\n",
      " [1 'Cumings, Mrs. John Bradley (Florence Briggs Thayer)' 'female' ...\n",
      "  71.2833 'C85' 'C']\n",
      " [3 'Heikkinen, Miss. Laina' 'female' ... 7.925 nan 'S']\n",
      " ...\n",
      " [3 'Saether, Mr. Simon Sivertsen' 'male' ... 7.25 nan 'S']\n",
      " [3 'Ware, Mr. Frederick' 'male' ... 8.05 nan 'S']\n",
      " [3 'Peter, Master. Michael J' 'male' ... 22.3583 nan 'C']]\n"
     ]
    }
   ],
   "source": [
    "X = np.concatenate((X_train, X_test), 0)\n",
    "print(X)"
   ]
  },
  {
   "cell_type": "code",
   "execution_count": 415,
   "metadata": {},
   "outputs": [
    {
     "name": "stdout",
     "output_type": "stream",
     "text": [
      "[[3 ' Mr' 'male' ... 7.25 nan 'S']\n",
      " [1 ' Mrs' 'female' ... 71.2833 'C85' 'C']\n",
      " [3 ' Miss' 'female' ... 7.925 nan 'S']\n",
      " ...\n",
      " [3 ' Mr' 'male' ... 7.25 nan 'S']\n",
      " [3 ' Mr' 'male' ... 8.05 nan 'S']\n",
      " [3 ' Master' 'male' ... 22.3583 nan 'C']]\n"
     ]
    }
   ],
   "source": [
    "#feature engineering we want to extract a title feature from the names which will be extracted from a , to a .\n",
    "i = 0\n",
    "for name in X[:, 1]:\n",
    "        X[i, 1] = name.split(',')[1].split('.')[0]\n",
    "        i += 1\n",
    "print(X)"
   ]
  },
  {
   "cell_type": "code",
   "execution_count": 416,
   "metadata": {},
   "outputs": [],
   "source": [
    "X = np.delete(X, 6, axis=1) # delete ticket number\n",
    "X = np.delete(X, 7, axis=1) # delete cabin number"
   ]
  },
  {
   "cell_type": "code",
   "execution_count": 417,
   "metadata": {},
   "outputs": [],
   "source": [
    "# taking care of missing data\n",
    "from sklearn.impute import SimpleImputer\n",
    "#Age, SibSp ParCh, Fare\n",
    "imputer = SimpleImputer(missing_values=np.nan, strategy='median')\n",
    "imputer.fit(X[:, 3:7])\n",
    "X[:, 3:7] = imputer.transform(X[:, 3:7])\n",
    "\n",
    "#Embarked\n",
    "imputere = SimpleImputer(missing_values=np.nan, strategy='most_frequent')\n",
    "imputere.fit(X[:, -1:])\n",
    "X[:, -1:] = imputere.transform(X[:, -1:])\n",
    "\n",
    "#Title\n",
    "imputeret = SimpleImputer(missing_values=np.nan, strategy='constant', fill_value='NoTitle')\n",
    "imputeret.fit(X[:, 1:2])\n",
    "X[:, 1:2] = imputeret.transform(X[:, 1:2])"
   ]
  },
  {
   "cell_type": "code",
   "execution_count": 418,
   "metadata": {},
   "outputs": [],
   "source": [
    "i = 0\n",
    "for sibsp in X[:, 4]: # go through sibsp column\n",
    "    X[i, 5] = X[i, 5] + sibsp # add it to the parch colum which will create family size\n",
    "    i += 1\n",
    "    \n",
    "X = np.delete(X, 4, axis=1) # delete cabin number"
   ]
  },
  {
   "cell_type": "code",
   "execution_count": 419,
   "metadata": {},
   "outputs": [
    {
     "name": "stdout",
     "output_type": "stream",
     "text": [
      "[[3 ' Mr' 'male' ... 1.0 7.25 'S']\n",
      " [1 ' Mrs' 'female' ... 1.0 71.2833 'C']\n",
      " [3 ' Miss' 'female' ... 0.0 7.925 'S']\n",
      " ...\n",
      " [3 ' Mr' 'male' ... 0.0 7.25 'S']\n",
      " [3 ' Mr' 'male' ... 0.0 8.05 'S']\n",
      " [3 ' Master' 'male' ... 2.0 22.3583 'C']]\n"
     ]
    }
   ],
   "source": [
    "print(X)"
   ]
  },
  {
   "cell_type": "code",
   "execution_count": 420,
   "metadata": {},
   "outputs": [
    {
     "name": "stdout",
     "output_type": "stream",
     "text": [
      "{' Mr': 757, ' Mrs': 197, ' Miss': 260, ' Master': 61, ' Don': 1, ' Rev': 8, ' Dr': 8, ' Mme': 1, ' Ms': 2, ' Major': 2, ' Lady': 1, ' Sir': 1, ' Mlle': 2, ' Col': 4, ' Capt': 1, ' the Countess': 1, ' Jonkheer': 1, ' Dona': 1}\n"
     ]
    }
   ],
   "source": [
    "titles = X[:, 1]\n",
    "appearences = {} #we need to organize the titles\n",
    "for title in titles:\n",
    "    if title not in appearences.keys():\n",
    "        appearences[title] = 1\n",
    "    else:\n",
    "        appearences[title] += 1\n",
    "print(appearences)"
   ]
  },
  {
   "cell_type": "code",
   "execution_count": 421,
   "metadata": {},
   "outputs": [],
   "source": [
    "# Replacing less familiar names with more familiar names\n",
    "off = ['Capt', 'Col', 'Major', 'Dr', 'Rev']\n",
    "mas = ['Jonkheer', 'Master']\n",
    "roy = ['Don', 'Sir', 'the Countess', 'Lady', 'Dona']\n",
    "mrs = ['Mme', 'Ms', 'Mrs']\n",
    "mis = ['Mlle', 'Miss']\n",
    "i = 0\n",
    "for title in X[:, 1]:\n",
    "    if title in off:\n",
    "        X[i, 1] = 'Officer'\n",
    "    elif title in mas:\n",
    "        X[i, 1] = 'Master'\n",
    "    elif title in roy:\n",
    "        X[i, 1] = 'Royalty'\n",
    "    elif title in mrs:\n",
    "        X[i, 1] = 'Mrs'\n",
    "    elif title in mis:\n",
    "        X[i, 1] = 'Miss'\n",
    "    i += 1"
   ]
  },
  {
   "cell_type": "code",
   "execution_count": 422,
   "metadata": {},
   "outputs": [],
   "source": [
    "from sklearn.preprocessing import LabelEncoder\n",
    "label = LabelEncoder()\n",
    "for col in [1, 2]:\n",
    "    X[:, col] = label.fit_transform(X[:, col])"
   ]
  },
  {
   "cell_type": "code",
   "execution_count": 423,
   "metadata": {},
   "outputs": [
    {
     "data": {
      "text/plain": [
       "(1309, 7)"
      ]
     },
     "execution_count": 423,
     "metadata": {},
     "output_type": "execute_result"
    }
   ],
   "source": [
    "X.shape"
   ]
  },
  {
   "cell_type": "code",
   "execution_count": 424,
   "metadata": {},
   "outputs": [
    {
     "name": "stdout",
     "output_type": "stream",
     "text": [
      "[[3 12 1 ... 1.0 7.25 'S']\n",
      " [1 13 0 ... 1.0 71.2833 'C']\n",
      " [3 9 0 ... 0.0 7.925 'S']\n",
      " ...\n",
      " [3 12 1 ... 0.0 7.25 'S']\n",
      " [3 12 1 ... 0.0 8.05 'S']\n",
      " [3 8 1 ... 2.0 22.3583 'C']]\n"
     ]
    }
   ],
   "source": [
    "print(X)"
   ]
  },
  {
   "cell_type": "code",
   "execution_count": 425,
   "metadata": {},
   "outputs": [],
   "source": [
    "from sklearn.compose import ColumnTransformer \n",
    "from sklearn.preprocessing import OneHotEncoder\n",
    "ct = ColumnTransformer(transformers=[('encoder', OneHotEncoder(), [-1])], remainder = 'passthrough')\n",
    "X = np.array(ct.fit_transform(X))"
   ]
  },
  {
   "cell_type": "code",
   "execution_count": 426,
   "metadata": {},
   "outputs": [
    {
     "data": {
      "text/plain": [
       "(1309, 9)"
      ]
     },
     "execution_count": 426,
     "metadata": {},
     "output_type": "execute_result"
    }
   ],
   "source": [
    "X.shape"
   ]
  },
  {
   "cell_type": "code",
   "execution_count": 427,
   "metadata": {},
   "outputs": [],
   "source": [
    "# Splitting dataset into train\n",
    "X_train = X[:len(X_train)]\n",
    "\n",
    "# Splitting dataset into test\n",
    "X_test = X[len(X_train):]"
   ]
  },
  {
   "cell_type": "code",
   "execution_count": 428,
   "metadata": {},
   "outputs": [],
   "source": [
    "from sklearn.preprocessing import StandardScaler\n",
    "sc = StandardScaler()\n",
    "X_train[:, 8:9] = sc.fit_transform(X_train[:, 8:9])\n",
    "X_test[:, 9:9] = sc.transform(X_test[:, 8:9])"
   ]
  },
  {
   "cell_type": "code",
   "execution_count": 429,
   "metadata": {},
   "outputs": [],
   "source": [
    "from sklearn.model_selection import cross_val_score"
   ]
  },
  {
   "cell_type": "code",
   "execution_count": 430,
   "metadata": {},
   "outputs": [
    {
     "data": {
      "text/plain": [
       "RandomForestClassifier(bootstrap=True, ccp_alpha=0.0, class_weight=None,\n",
       "                       criterion='entropy', max_depth=None, max_features='auto',\n",
       "                       max_leaf_nodes=None, max_samples=None,\n",
       "                       min_impurity_decrease=0.0, min_impurity_split=None,\n",
       "                       min_samples_leaf=1, min_samples_split=2,\n",
       "                       min_weight_fraction_leaf=0.0, n_estimators=10,\n",
       "                       n_jobs=None, oob_score=False, random_state=0, verbose=0,\n",
       "                       warm_start=False)"
      ]
     },
     "execution_count": 430,
     "metadata": {},
     "output_type": "execute_result"
    }
   ],
   "source": [
    "#random forests model\n",
    "from sklearn.ensemble import RandomForestClassifier\n",
    "classifier = RandomForestClassifier(n_estimators = 10, criterion = 'entropy', random_state = 0)\n",
    "classifier.fit(X_train, y_train)"
   ]
  },
  {
   "cell_type": "code",
   "execution_count": 431,
   "metadata": {},
   "outputs": [
    {
     "name": "stdout",
     "output_type": "stream",
     "text": [
      "Accuracy: 80.93 %\n",
      "Standard Deviation: 4.65 %\n"
     ]
    }
   ],
   "source": [
    "y_pred_random_forest = classifier.predict(X_test)\n",
    "accuracies = cross_val_score(estimator = classifier, X = X_train, y = y_train, cv = 10)\n",
    "print(\"Accuracy: {:.2f} %\".format(accuracies.mean()*100))\n",
    "print(\"Standard Deviation: {:.2f} %\".format(accuracies.std()*100))\n",
    "#ar = np.concatenate((y_pred.reshape(len(y_pred_random_forest),1), y_test.reshape(len(y_test),1)),1)"
   ]
  },
  {
   "cell_type": "code",
   "execution_count": 432,
   "metadata": {},
   "outputs": [
    {
     "name": "stdout",
     "output_type": "stream",
     "text": [
      "Accuracy: 78.23 %\n",
      "Standard Deviation: 4.52 %\n"
     ]
    }
   ],
   "source": [
    "from sklearn.neighbors import KNeighborsClassifier\n",
    "classifier = KNeighborsClassifier(n_neighbors = 5, metric = 'minkowski', p = 2)\n",
    "classifier.fit(X_train, y_train)\n",
    "y_pred_KNN = classifier.predict(X_test)\n",
    "accuracies = cross_val_score(estimator = classifier, X = X_train, y = y_train, cv = 10)\n",
    "print(\"Accuracy: {:.2f} %\".format(accuracies.mean()*100))\n",
    "print(\"Standard Deviation: {:.2f} %\".format(accuracies.std()*100))"
   ]
  },
  {
   "cell_type": "code",
   "execution_count": 437,
   "metadata": {},
   "outputs": [
    {
     "name": "stdout",
     "output_type": "stream",
     "text": [
      "Accuracy: 69.26 %\n",
      "Standard Deviation: 4.21 %\n"
     ]
    }
   ],
   "source": [
    "from sklearn.svm import SVC\n",
    "classifier = SVC(kernel = 'rbf', random_state = 0)\n",
    "classifier.fit(X_train, y_train)\n",
    "y_pred_KSVM = classifier.predict(X_test)\n",
    "accuracies = cross_val_score(estimator = classifier, X = X_train, y = y_train, cv = 10)\n",
    "print(\"Accuracy: {:.2f} %\".format(accuracies.mean()*100))\n",
    "print(\"Standard Deviation: {:.2f} %\".format(accuracies.std()*100))"
   ]
  },
  {
   "cell_type": "code",
   "execution_count": 433,
   "metadata": {},
   "outputs": [
    {
     "name": "stdout",
     "output_type": "stream",
     "text": [
      "Accuracy: 78.67 %\n",
      "Standard Deviation: 2.86 %\n"
     ]
    }
   ],
   "source": [
    "from sklearn.svm import SVC\n",
    "classifier = SVC(kernel = 'linear', random_state = 0)\n",
    "classifier.fit(X_train, y_train)\n",
    "y_pred_SVC = classifier.predict(X_test)\n",
    "accuracies = cross_val_score(estimator = classifier, X = X_train, y = y_train, cv = 10)\n",
    "print(\"Accuracy: {:.2f} %\".format(accuracies.mean()*100))\n",
    "print(\"Standard Deviation: {:.2f} %\".format(accuracies.std()*100))"
   ]
  },
  {
   "cell_type": "code",
   "execution_count": 438,
   "metadata": {},
   "outputs": [
    {
     "name": "stdout",
     "output_type": "stream",
     "text": [
      "Accuracy: 79.58 %\n",
      "Standard Deviation: 5.19 %\n"
     ]
    }
   ],
   "source": [
    "from sklearn.tree import DecisionTreeClassifier\n",
    "classifier = DecisionTreeClassifier(criterion = 'entropy', random_state = 0)\n",
    "classifier.fit(X_train, y_train)\n",
    "y_pred_DT = classifier.predict(X_test)\n",
    "accuracies = cross_val_score(estimator = classifier, X = X_train, y = y_train, cv = 10)\n",
    "print(\"Accuracy: {:.2f} %\".format(accuracies.mean()*100))\n",
    "print(\"Standard Deviation: {:.2f} %\".format(accuracies.std()*100))"
   ]
  },
  {
   "cell_type": "code",
   "execution_count": 434,
   "metadata": {},
   "outputs": [
    {
     "name": "stderr",
     "output_type": "stream",
     "text": [
      "/opt/anaconda3/lib/python3.7/site-packages/sklearn/linear_model/_logistic.py:940: ConvergenceWarning: lbfgs failed to converge (status=1):\n",
      "STOP: TOTAL NO. of ITERATIONS REACHED LIMIT.\n",
      "\n",
      "Increase the number of iterations (max_iter) or scale the data as shown in:\n",
      "    https://scikit-learn.org/stable/modules/preprocessing.html\n",
      "Please also refer to the documentation for alternative solver options:\n",
      "    https://scikit-learn.org/stable/modules/linear_model.html#logistic-regression\n",
      "  extra_warning_msg=_LOGISTIC_SOLVER_CONVERGENCE_MSG)\n",
      "/opt/anaconda3/lib/python3.7/site-packages/sklearn/linear_model/_logistic.py:940: ConvergenceWarning: lbfgs failed to converge (status=1):\n",
      "STOP: TOTAL NO. of ITERATIONS REACHED LIMIT.\n",
      "\n",
      "Increase the number of iterations (max_iter) or scale the data as shown in:\n",
      "    https://scikit-learn.org/stable/modules/preprocessing.html\n",
      "Please also refer to the documentation for alternative solver options:\n",
      "    https://scikit-learn.org/stable/modules/linear_model.html#logistic-regression\n",
      "  extra_warning_msg=_LOGISTIC_SOLVER_CONVERGENCE_MSG)\n",
      "/opt/anaconda3/lib/python3.7/site-packages/sklearn/linear_model/_logistic.py:940: ConvergenceWarning: lbfgs failed to converge (status=1):\n",
      "STOP: TOTAL NO. of ITERATIONS REACHED LIMIT.\n",
      "\n",
      "Increase the number of iterations (max_iter) or scale the data as shown in:\n",
      "    https://scikit-learn.org/stable/modules/preprocessing.html\n",
      "Please also refer to the documentation for alternative solver options:\n",
      "    https://scikit-learn.org/stable/modules/linear_model.html#logistic-regression\n",
      "  extra_warning_msg=_LOGISTIC_SOLVER_CONVERGENCE_MSG)\n",
      "/opt/anaconda3/lib/python3.7/site-packages/sklearn/linear_model/_logistic.py:940: ConvergenceWarning: lbfgs failed to converge (status=1):\n",
      "STOP: TOTAL NO. of ITERATIONS REACHED LIMIT.\n",
      "\n",
      "Increase the number of iterations (max_iter) or scale the data as shown in:\n",
      "    https://scikit-learn.org/stable/modules/preprocessing.html\n",
      "Please also refer to the documentation for alternative solver options:\n",
      "    https://scikit-learn.org/stable/modules/linear_model.html#logistic-regression\n",
      "  extra_warning_msg=_LOGISTIC_SOLVER_CONVERGENCE_MSG)\n",
      "/opt/anaconda3/lib/python3.7/site-packages/sklearn/linear_model/_logistic.py:940: ConvergenceWarning: lbfgs failed to converge (status=1):\n",
      "STOP: TOTAL NO. of ITERATIONS REACHED LIMIT.\n",
      "\n",
      "Increase the number of iterations (max_iter) or scale the data as shown in:\n",
      "    https://scikit-learn.org/stable/modules/preprocessing.html\n",
      "Please also refer to the documentation for alternative solver options:\n",
      "    https://scikit-learn.org/stable/modules/linear_model.html#logistic-regression\n",
      "  extra_warning_msg=_LOGISTIC_SOLVER_CONVERGENCE_MSG)\n",
      "/opt/anaconda3/lib/python3.7/site-packages/sklearn/linear_model/_logistic.py:940: ConvergenceWarning: lbfgs failed to converge (status=1):\n",
      "STOP: TOTAL NO. of ITERATIONS REACHED LIMIT.\n",
      "\n",
      "Increase the number of iterations (max_iter) or scale the data as shown in:\n",
      "    https://scikit-learn.org/stable/modules/preprocessing.html\n",
      "Please also refer to the documentation for alternative solver options:\n",
      "    https://scikit-learn.org/stable/modules/linear_model.html#logistic-regression\n",
      "  extra_warning_msg=_LOGISTIC_SOLVER_CONVERGENCE_MSG)\n"
     ]
    },
    {
     "name": "stdout",
     "output_type": "stream",
     "text": [
      "Accuracy: 79.69 %\n",
      "Standard Deviation: 2.45 %\n"
     ]
    },
    {
     "name": "stderr",
     "output_type": "stream",
     "text": [
      "/opt/anaconda3/lib/python3.7/site-packages/sklearn/linear_model/_logistic.py:940: ConvergenceWarning: lbfgs failed to converge (status=1):\n",
      "STOP: TOTAL NO. of ITERATIONS REACHED LIMIT.\n",
      "\n",
      "Increase the number of iterations (max_iter) or scale the data as shown in:\n",
      "    https://scikit-learn.org/stable/modules/preprocessing.html\n",
      "Please also refer to the documentation for alternative solver options:\n",
      "    https://scikit-learn.org/stable/modules/linear_model.html#logistic-regression\n",
      "  extra_warning_msg=_LOGISTIC_SOLVER_CONVERGENCE_MSG)\n",
      "/opt/anaconda3/lib/python3.7/site-packages/sklearn/linear_model/_logistic.py:940: ConvergenceWarning: lbfgs failed to converge (status=1):\n",
      "STOP: TOTAL NO. of ITERATIONS REACHED LIMIT.\n",
      "\n",
      "Increase the number of iterations (max_iter) or scale the data as shown in:\n",
      "    https://scikit-learn.org/stable/modules/preprocessing.html\n",
      "Please also refer to the documentation for alternative solver options:\n",
      "    https://scikit-learn.org/stable/modules/linear_model.html#logistic-regression\n",
      "  extra_warning_msg=_LOGISTIC_SOLVER_CONVERGENCE_MSG)\n",
      "/opt/anaconda3/lib/python3.7/site-packages/sklearn/linear_model/_logistic.py:940: ConvergenceWarning: lbfgs failed to converge (status=1):\n",
      "STOP: TOTAL NO. of ITERATIONS REACHED LIMIT.\n",
      "\n",
      "Increase the number of iterations (max_iter) or scale the data as shown in:\n",
      "    https://scikit-learn.org/stable/modules/preprocessing.html\n",
      "Please also refer to the documentation for alternative solver options:\n",
      "    https://scikit-learn.org/stable/modules/linear_model.html#logistic-regression\n",
      "  extra_warning_msg=_LOGISTIC_SOLVER_CONVERGENCE_MSG)\n",
      "/opt/anaconda3/lib/python3.7/site-packages/sklearn/linear_model/_logistic.py:940: ConvergenceWarning: lbfgs failed to converge (status=1):\n",
      "STOP: TOTAL NO. of ITERATIONS REACHED LIMIT.\n",
      "\n",
      "Increase the number of iterations (max_iter) or scale the data as shown in:\n",
      "    https://scikit-learn.org/stable/modules/preprocessing.html\n",
      "Please also refer to the documentation for alternative solver options:\n",
      "    https://scikit-learn.org/stable/modules/linear_model.html#logistic-regression\n",
      "  extra_warning_msg=_LOGISTIC_SOLVER_CONVERGENCE_MSG)\n"
     ]
    }
   ],
   "source": [
    "from sklearn.linear_model import LogisticRegression\n",
    "classifier = LogisticRegression(random_state = 0)\n",
    "classifier.fit(X_train, y_train)\n",
    "y_pred_LR = classifier.predict(X_test)\n",
    "accuracies = cross_val_score(estimator = classifier, X = X_train, y = y_train, cv = 10)\n",
    "print(\"Accuracy: {:.2f} %\".format(accuracies.mean()*100))\n",
    "print(\"Standard Deviation: {:.2f} %\".format(accuracies.std()*100))"
   ]
  },
  {
   "cell_type": "code",
   "execution_count": 435,
   "metadata": {},
   "outputs": [
    {
     "name": "stdout",
     "output_type": "stream",
     "text": [
      "Accuracy: 79.01 %\n",
      "Standard Deviation: 2.12 %\n"
     ]
    }
   ],
   "source": [
    "from sklearn.naive_bayes import GaussianNB\n",
    "classifier = GaussianNB()\n",
    "classifier.fit(X_train, y_train)\n",
    "y_pred_NB = classifier.predict(X_test)\n",
    "accuracies = cross_val_score(estimator = classifier, X = X_train, y = y_train, cv = 10)\n",
    "print(\"Accuracy: {:.2f} %\".format(accuracies.mean()*100))\n",
    "print(\"Standard Deviation: {:.2f} %\".format(accuracies.std()*100))"
   ]
  },
  {
   "cell_type": "code",
   "execution_count": 436,
   "metadata": {},
   "outputs": [],
   "source": [
    "#write results in csv file\n",
    "import csv\n",
    "with open('predictions.csv', 'w', newline='') as file:\n",
    "    fieldnames = ['PassengerId', 'Survived']\n",
    "    writer = csv.DictWriter(file, fieldnames=fieldnames)\n",
    "\n",
    "    writer.writeheader()\n",
    "    idNum = 892\n",
    "    for i in range(418):\n",
    "        writer.writerow({'PassengerId': idNum, 'Survived': y_pred_NB[i]})\n",
    "        idNum += 1\n"
   ]
  },
  {
   "cell_type": "code",
   "execution_count": null,
   "metadata": {},
   "outputs": [],
   "source": []
  }
 ],
 "metadata": {
  "kernelspec": {
   "display_name": "Python 3",
   "language": "python",
   "name": "python3"
  },
  "language_info": {
   "codemirror_mode": {
    "name": "ipython",
    "version": 3
   },
   "file_extension": ".py",
   "mimetype": "text/x-python",
   "name": "python",
   "nbconvert_exporter": "python",
   "pygments_lexer": "ipython3",
   "version": "3.7.6"
  }
 },
 "nbformat": 4,
 "nbformat_minor": 4
}
